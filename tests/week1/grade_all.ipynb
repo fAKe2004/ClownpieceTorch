{
 "cells": [
  {
   "cell_type": "markdown",
   "id": "c751f708",
   "metadata": {},
   "source": [
    "## Comprehensive Test – Your Final Stretch!\n",
    "\n",
    "This is a comprehensive test on your TensorBase. The test itself consists of 2 parts.\n",
    "\n",
    "Instructions:\n",
    "\n",
    "You do not need to modify any code in this notebook. Simply run each cell in order to complete the test.\n",
    "\n",
    "If you encounter any errors, please double-check your TensorBase implementation and ensure you have restarted the Jupyter Notebook kernel after making any changes.\n",
    "\n",
    "Use the “Restart & Run All” option if you want to rerun the entire notebook from scratch.\n",
    "\n",
    "Good luck!"
   ]
  },
  {
   "cell_type": "markdown",
   "id": "ab6726a6",
   "metadata": {},
   "source": [
    "*Acknowledgement: This notebook is adapted from CS3308 - Machine Learning.*\n",
    "\n",
    "*We have made some modifications to make it compatible with your TensorBase implementation.*"
   ]
  },
  {
   "cell_type": "markdown",
   "id": "59a5851c",
   "metadata": {},
   "source": [
    "### Part1 K-means Clustering"
   ]
  },
  {
   "cell_type": "code",
   "execution_count": 1,
   "id": "0727c26a",
   "metadata": {},
   "outputs": [],
   "source": [
    "import clownpiece as cp\n",
    "import pandas as pd\n",
    "import matplotlib.pyplot as plt\n",
    "import seaborn as sb\n",
    "from scipy.io import loadmat\n",
    "cp.Tensor = cp.TensorBase"
   ]
  },
  {
   "cell_type": "markdown",
   "id": "96a7bddb",
   "metadata": {},
   "source": [
    "We will use your **clownpiece.TensorBase** to apply K-means to a simple 2D dataset. K-means is an iterative, unsupervised clustering algorithm that groups similar instances into clusters. The algorithm starts by guessing the initial centroids for each cluster, then repeatedly assigns instances to the nearest cluster and recalculates the centroid of each cluster.\n",
    "\n",
    "**A kind reminder:**\n",
    "\n",
    "If you make any changes to your TensorBase during testing, **MAKE SURE** to recompile and press the “Restart” button in Jupyter Notebook; otherwise, your modifications will not take effect."
   ]
  },
  {
   "cell_type": "code",
   "execution_count": 2,
   "id": "e5d8150c",
   "metadata": {},
   "outputs": [
    {
     "data": {
      "text/html": [
       "<div>\n",
       "<style scoped>\n",
       "    .dataframe tbody tr th:only-of-type {\n",
       "        vertical-align: middle;\n",
       "    }\n",
       "\n",
       "    .dataframe tbody tr th {\n",
       "        vertical-align: top;\n",
       "    }\n",
       "\n",
       "    .dataframe thead th {\n",
       "        text-align: right;\n",
       "    }\n",
       "</style>\n",
       "<table border=\"1\" class=\"dataframe\">\n",
       "  <thead>\n",
       "    <tr style=\"text-align: right;\">\n",
       "      <th></th>\n",
       "      <th>X1</th>\n",
       "      <th>X2</th>\n",
       "    </tr>\n",
       "  </thead>\n",
       "  <tbody>\n",
       "    <tr>\n",
       "      <th>0</th>\n",
       "      <td>1.842080</td>\n",
       "      <td>4.607572</td>\n",
       "    </tr>\n",
       "    <tr>\n",
       "      <th>1</th>\n",
       "      <td>5.658583</td>\n",
       "      <td>4.799964</td>\n",
       "    </tr>\n",
       "    <tr>\n",
       "      <th>2</th>\n",
       "      <td>6.352579</td>\n",
       "      <td>3.290854</td>\n",
       "    </tr>\n",
       "    <tr>\n",
       "      <th>3</th>\n",
       "      <td>2.904017</td>\n",
       "      <td>4.612204</td>\n",
       "    </tr>\n",
       "    <tr>\n",
       "      <th>4</th>\n",
       "      <td>3.231979</td>\n",
       "      <td>4.939894</td>\n",
       "    </tr>\n",
       "  </tbody>\n",
       "</table>\n",
       "</div>"
      ],
      "text/plain": [
       "         X1        X2\n",
       "0  1.842080  4.607572\n",
       "1  5.658583  4.799964\n",
       "2  6.352579  3.290854\n",
       "3  2.904017  4.612204\n",
       "4  3.231979  4.939894"
      ]
     },
     "execution_count": 2,
     "metadata": {},
     "output_type": "execute_result"
    }
   ],
   "source": [
    "# Load dataset for clustering and visualization\n",
    "dataset = loadmat('ex1_data/data1.mat')\n",
    "data = pd.DataFrame(dataset.get('X'), columns=['X1', 'X2'])\n",
    "data.head()"
   ]
  },
  {
   "cell_type": "markdown",
   "id": "66e8494a",
   "metadata": {},
   "source": [
    "The first part we need to implement is a function that finds the closest centroid for each instance in the dataset."
   ]
  },
  {
   "cell_type": "code",
   "execution_count": 3,
   "id": "ca30826d",
   "metadata": {},
   "outputs": [],
   "source": [
    "def find_closest_centroids(X, centroids):\n",
    "    \"\"\"\n",
    "    For each example in X, compute the distance to each centroid\n",
    "    and assign the example to the closest one.\n",
    "\n",
    "    Inputs:\n",
    "        X         : Tensor of shape (m, n), dataset with m examples and n features\n",
    "        centroids : Tensor of shape (K, n), coordinates of K current centroids\n",
    "\n",
    "    Output:\n",
    "        idx       : List of shape (m,), index of the closest centroid (in {0, ..., K-1}) for each example\n",
    "    \"\"\"\n",
    "    (m, n) = X.shape\n",
    "    K = centroids.shape[0]\n",
    "    idx = [0] * m  # Initialize index array\n",
    "\n",
    "    # print(\"centroids=\", centroids)\n",
    "    for i in range(0, m):\n",
    "        dist = (centroids - X[i]).pow(2).sum(dim=1, keepdim=False).sqrt()\n",
    "        min_dist = dist[0]\n",
    "        for k in range(1, K):\n",
    "            if dist[k].item() < min_dist.item():\n",
    "                idx[i] = k\n",
    "                min_dist = dist[k]\n",
    "    return idx"
   ]
  },
  {
   "cell_type": "markdown",
   "id": "6c218798",
   "metadata": {},
   "source": [
    "Let's test this function to ensure that it works correctly. We will use the test case provided in the exercise."
   ]
  },
  {
   "cell_type": "code",
   "execution_count": 4,
   "id": "2f0c0777",
   "metadata": {},
   "outputs": [
    {
     "data": {
      "text/plain": [
       "[0, 2, 1]"
      ]
     },
     "execution_count": 4,
     "metadata": {},
     "output_type": "execute_result"
    }
   ],
   "source": [
    "#  Guess the initial centroids for each cluster\n",
    "initial_centroids = cp.Tensor([[3, 3], [6, 2], [8, 5]])\n",
    "\n",
    "# Test the function\n",
    "X = cp.Tensor(dataset['X'].tolist())\n",
    "idx = find_closest_centroids(X, initial_centroids)\n",
    "idx[0:3]"
   ]
  },
  {
   "cell_type": "markdown",
   "id": "1f399606",
   "metadata": {},
   "source": [
    "Next, we need a function to compute the centroids of the clusters. A centroid is simply the mean of all the samples currently assigned to that cluster."
   ]
  },
  {
   "cell_type": "code",
   "execution_count": 5,
   "id": "d8684dc1",
   "metadata": {},
   "outputs": [],
   "source": [
    "def compute_centroids(X, idx, k):\n",
    "    \"\"\"\n",
    "    Given the current assignments of examples to centroids, compute the new\n",
    "    centroid positions as the mean of the assigned examples.\n",
    "\n",
    "    Inputs:\n",
    "        X    : Tensor of shape (m, n), dataset with m examples and n features\n",
    "        idx  : Tensor of shape (m,), index of the closest centroid for each example\n",
    "        k    : int, number of clusters\n",
    "\n",
    "    Output:\n",
    "        centroids : numpy array of shape (k, n), new centroid coordinates\n",
    "    \"\"\"\n",
    "    idx_cnt = cp.zeros((k,))\n",
    "    (m, n) = X.shape\n",
    "    centroids = cp.zeros((k, n))\n",
    "\n",
    "    for i, id in enumerate(idx):\n",
    "        idx_cnt[id] += 1\n",
    "        centroids[id] += X[i]\n",
    "    \n",
    "    print(idx_cnt)\n",
    "    centroids /= (idx_cnt.reshape(-1, 1))\n",
    "    return centroids"
   ]
  },
  {
   "cell_type": "markdown",
   "id": "e38bbaa4",
   "metadata": {},
   "source": [
    "Let's test this function to ensure that it works correctly."
   ]
  },
  {
   "cell_type": "code",
   "execution_count": 6,
   "id": "cdb00824",
   "metadata": {},
   "outputs": [
    {
     "name": "stdout",
     "output_type": "stream",
     "text": [
      "Tensor(\n",
      "  shape=(3), strides=(1)\n",
      "  data={\n",
      "    [191, 103, 6]\n",
      "  }\n",
      ")\n",
      "\n"
     ]
    },
    {
     "data": {
      "text/plain": [
       "Tensor(\n",
       "  shape=(3, 2), strides=(2, 1)\n",
       "  data={\n",
       "    [[2.4283, 3.15792],\n",
       "     [5.8135, 2.63366],\n",
       "     [7.11939, 3.61668]]\n",
       "  }\n",
       ")"
      ]
     },
     "execution_count": 6,
     "metadata": {},
     "output_type": "execute_result"
    }
   ],
   "source": [
    "compute_centroids(X, idx, 3)"
   ]
  },
  {
   "cell_type": "markdown",
   "id": "37361a30",
   "metadata": {},
   "source": [
    "This output also matches the expected results from the exercise.\n",
    "\n",
    "The next part involves running the algorithm for several iterations and visualizing the results. Since this step is relatively straightforward, we will build it from scratch. To run the algorithm, we simply need to repeatedly assign each sample to its nearest cluster and then recompute the cluster centroids."
   ]
  },
  {
   "cell_type": "code",
   "execution_count": 7,
   "id": "d04ec9b1",
   "metadata": {},
   "outputs": [],
   "source": [
    "def run_k_means(X, initial_centroids, max_iters):\n",
    "    \"\"\"\n",
    "    Runs the K-means algorithm on data matrix X.\n",
    "\n",
    "    Inputs:\n",
    "        X                 : Tensor of shape (m, n), dataset with m examples and n features\n",
    "        initial_centroids : Tensor of shape (K, n), initial centroids to begin the algorithm\n",
    "        max_iters         : int, maximum number of iterations to run K-means\n",
    "\n",
    "    Outputs:\n",
    "        idx       : Array of shape (m,), final assignment of each example to a centroid\n",
    "        centroids : Tensor of shape (K, n), final centroid positions after convergence or max_iters\n",
    "    \"\"\"\n",
    "    Ncluster = initial_centroids.shape[0]\n",
    "    centroids = cp.zeros((Ncluster, X.shape[1]))\n",
    "    centroids = initial_centroids.clone()\n",
    "    for _ in range(max_iters):\n",
    "        idx = find_closest_centroids(X, centroids)\n",
    "        centroids = compute_centroids(X, idx, Ncluster)\n",
    "    return (idx, centroids)"
   ]
  },
  {
   "cell_type": "code",
   "execution_count": 8,
   "id": "29b377bc",
   "metadata": {},
   "outputs": [
    {
     "name": "stdout",
     "output_type": "stream",
     "text": [
      "Tensor(\n",
      "  shape=(3), strides=(1)\n",
      "  data={\n",
      "    [191, 103, 6]\n",
      "  }\n",
      ")\n",
      "\n",
      "Tensor(\n",
      "  shape=(3), strides=(1)\n",
      "  data={\n",
      "    [179, 91, 30]\n",
      "  }\n",
      ")\n",
      "\n",
      "Tensor(\n",
      "  shape=(3), strides=(1)\n",
      "  data={\n",
      "    [164, 88, 48]\n",
      "  }\n",
      ")\n",
      "\n",
      "Tensor(\n",
      "  shape=(3), strides=(1)\n",
      "  data={\n",
      "    [131, 93, 76]\n",
      "  }\n",
      ")\n",
      "\n",
      "Tensor(\n",
      "  shape=(3), strides=(1)\n",
      "  data={\n",
      "    [98, 108, 94]\n",
      "  }\n",
      ")\n",
      "\n",
      "Tensor(\n",
      "  shape=(3), strides=(1)\n",
      "  data={\n",
      "    [98, 102, 100]\n",
      "  }\n",
      ")\n",
      "\n",
      "Tensor(\n",
      "  shape=(3), strides=(1)\n",
      "  data={\n",
      "    [98, 102, 100]\n",
      "  }\n",
      ")\n",
      "\n",
      "Tensor(\n",
      "  shape=(3), strides=(1)\n",
      "  data={\n",
      "    [98, 102, 100]\n",
      "  }\n",
      ")\n",
      "\n",
      "Tensor(\n",
      "  shape=(3), strides=(1)\n",
      "  data={\n",
      "    [98, 102, 100]\n",
      "  }\n",
      ")\n",
      "\n",
      "Tensor(\n",
      "  shape=(3), strides=(1)\n",
      "  data={\n",
      "    [98, 102, 100]\n",
      "  }\n",
      ")\n",
      "\n"
     ]
    }
   ],
   "source": [
    "idx, centroids = run_k_means(X, initial_centroids, 10)"
   ]
  },
  {
   "cell_type": "code",
   "execution_count": 9,
   "id": "98cf6c43",
   "metadata": {},
   "outputs": [
    {
     "data": {
      "image/png": "[encoded data removed]",
      "text/plain": [
       "<Figure size 1200x800 with 1 Axes>"
      ]
     },
     "metadata": {},
     "output_type": "display_data"
    }
   ],
   "source": [
    "rows1 = []\n",
    "rows2 = []\n",
    "rows3 = []\n",
    "for i in range(len(idx)):\n",
    "    if idx[i] == 0:\n",
    "        rows1.append(X[i, :].tolist())\n",
    "    elif idx[i] == 1:\n",
    "        rows2.append(X[i, :].tolist())\n",
    "    elif idx[i] == 2:\n",
    "        rows3.append(X[i, :].tolist())\n",
    "        \n",
    "cluster1 = cp.squeeze(cp.Tensor(rows1), dim=1)\n",
    "cluster2 = cp.squeeze(cp.Tensor(rows2), dim=1)\n",
    "cluster3 = cp.squeeze(cp.Tensor(rows3), dim=1)\n",
    "\n",
    "fig, ax = plt.subplots(figsize=(12,8))\n",
    "ax.scatter(cluster1[:,0].tolist(), cluster1[:,1].tolist(), s=30, color='r', label='Cluster 1')\n",
    "ax.scatter(cluster2[:,0].tolist(), cluster2[:,1].tolist(), s=30, color='g', label='Cluster 2')\n",
    "ax.scatter(cluster3[:,0].tolist(), cluster3[:,1].tolist(), s=30, color='b', label='Cluster 3')\n",
    "ax.legend()\n",
    "plt.show()"
   ]
  },
  {
   "cell_type": "markdown",
   "id": "90cdd4ec",
   "metadata": {},
   "source": [
    "### Part2: Planar data classification with a simple neural network"
   ]
  },
  {
   "cell_type": "markdown",
   "id": "67e97e7c",
   "metadata": {},
   "source": [
    "#### 1 - Packages"
   ]
  },
  {
   "cell_type": "code",
   "execution_count": 10,
   "id": "be5c201a",
   "metadata": {},
   "outputs": [],
   "source": [
    "# Package imports\n",
    "import sys\n",
    "sys.path.append('./ex2_data')\n",
    "import clownpiece as cp\n",
    "import matplotlib.pyplot as plt\n",
    "from testCases import *\n",
    "import sklearn\n",
    "import sklearn.datasets\n",
    "import sklearn.linear_model\n",
    "from planar_utils import plot_decision_boundary, sigmoid, load_planar_dataset, load_extra_datasets\n",
    "cp.Tensor = cp.TensorBase\n",
    "\n",
    "%matplotlib inline\n",
    "\n",
    "# cp.random.seed(1) # set a seed so that the results are consistent"
   ]
  },
  {
   "cell_type": "markdown",
   "id": "f01bb2e7",
   "metadata": {},
   "source": [
    "#### 2 - Dataset ##\n",
    "\n",
    "First, let's get the dataset you will work on. The following code will load a \"flower\" 2-class dataset into variables `X` and `Y`."
   ]
  },
  {
   "cell_type": "code",
   "execution_count": 11,
   "id": "00c3d9cd",
   "metadata": {},
   "outputs": [],
   "source": [
    "X, Y = load_planar_dataset()\n",
    "X = cp.Tensor(X.tolist())\n",
    "Y = cp.Tensor(Y.tolist())"
   ]
  },
  {
   "cell_type": "markdown",
   "id": "8db1164f",
   "metadata": {},
   "source": [
    "Visualize the dataset using matplotlib. The data looks like a \"flower\" with some red (label y=0) and some blue (y=1) points. Your goal is to build a model to fit this data. In other words, we want the classifier to define regions as either red or blue."
   ]
  },
  {
   "cell_type": "code",
   "execution_count": 12,
   "id": "afb152b6",
   "metadata": {},
   "outputs": [
    {
     "data": {
      "image/png": "[encoded data removed]",
      "text/plain": [
       "<Figure size 640x480 with 1 Axes>"
      ]
     },
     "metadata": {},
     "output_type": "display_data"
    }
   ],
   "source": [
    "# Visualize the data:\n",
    "plt.scatter(X[0, :].tolist(), X[1, :].tolist(), c=Y.tolist(), s=40, cmap=plt.cm.Spectral);"
   ]
  },
  {
   "cell_type": "markdown",
   "id": "e64c6f24",
   "metadata": {},
   "source": [
    "You have:\n",
    "    \n",
    "    - a Tensor (matrix) X that contains your features (x1, x2)\n",
    "    \n",
    "    - a Tensor (vector) Y that contains your labels (red:0, blue:1).\n",
    "\n",
    "Lets first get a better sense of what our data is like. "
   ]
  },
  {
   "cell_type": "code",
   "execution_count": 13,
   "id": "e2a2515b",
   "metadata": {},
   "outputs": [
    {
     "name": "stdout",
     "output_type": "stream",
     "text": [
      "The shape of X is: [2, 400]\n",
      "The shape of Y is: [1, 400]\n",
      "I have m = 400 training examples!\n"
     ]
    }
   ],
   "source": [
    "shape_X = X.shape\n",
    "shape_Y = Y.shape\n",
    "m = X.shape[1]  # training set size\n",
    "\n",
    "print ('The shape of X is: ' + str(shape_X))\n",
    "print ('The shape of Y is: ' + str(shape_Y))\n",
    "print ('I have m = %d training examples!' % (m))"
   ]
  },
  {
   "cell_type": "markdown",
   "id": "ad56622a",
   "metadata": {},
   "source": [
    "#### 3 - Neural Network model\n",
    "\n",
    "You are going to train a Neural Network with a single hidden layer.\n",
    "\n",
    "**Here is our model**:\n",
    "<img src=\"ex2_data/images/classification_kiank.png\" style=\"width:600px;height:300px;\">\n",
    "\n",
    "**Mathematically**:\n",
    "\n",
    "For one example $x^{(i)}$:\n",
    "$$z^{[1] (i)} =  W^{[1]} x^{(i)} + b^{[1]}\\tag{1}$$ \n",
    "$$a^{[1] (i)} = \\tanh(z^{[1] (i)})\\tag{2}$$\n",
    "$$z^{[2] (i)} = W^{[2]} a^{[1] (i)} + b^{[2]}\\tag{3}$$\n",
    "$$\\hat{y}^{(i)} = a^{[2] (i)} = \\sigma(z^{ [2] (i)})\\tag{4}$$\n",
    "$$\n",
    "y^{(i)}_{\\text{prediction}} =\n",
    "\\begin{cases}\n",
    "1 & \\text{if } a^{[2](i)} > 0.5 \\\\\n",
    "0 & \\text{otherwise}\n",
    "\\end{cases} \\tag{5}\n",
    "$$\n",
    "\n",
    "Given the predictions on all the examples, you can also compute the cost $J$ as follows: \n",
    "$$J = - \\frac{1}{m} \\sum\\limits_{i = 0}^{m} \\large\\left(\\small y^{(i)}\\log\\left(a^{[2] (i)}\\right) + (1-y^{(i)})\\log\\left(1- a^{[2] (i)}\\right)  \\large  \\right) \\small \\tag{6}$$\n"
   ]
  },
  {
   "cell_type": "markdown",
   "id": "39de5f5e",
   "metadata": {},
   "source": [
    "#### 3.1 - Defining the neural network structure ####\n",
    "\n",
    "Define three variables:\n",
    "\n",
    "    - n_x: the size of the input layer\n",
    "\n",
    "    - n_h: the size of the hidden layer (set this to 4) \n",
    "\n",
    "    - n_y: the size of the output layer\n"
   ]
  },
  {
   "cell_type": "code",
   "execution_count": 14,
   "id": "3e923cad",
   "metadata": {},
   "outputs": [],
   "source": [
    "def layer_sizes(X, Y):\n",
    "    \"\"\"\n",
    "    Arguments:\n",
    "    X -- input dataset of shape (input size, number of examples)\n",
    "    Y -- labels of shape (output size, number of examples)\n",
    "    \n",
    "    Returns:\n",
    "    n_x -- the size of the input layer\n",
    "    n_h -- the size of the hidden layer\n",
    "    n_y -- the size of the output layer\n",
    "    \"\"\"\n",
    "    n_x = X.shape[0] # size of input layer\n",
    "    n_h = 4\n",
    "    n_y = Y.shape[0] # size of output layer\n",
    "    return (n_x, n_h, n_y)"
   ]
  },
  {
   "cell_type": "code",
   "execution_count": 15,
   "id": "acafb7f8",
   "metadata": {},
   "outputs": [
    {
     "name": "stdout",
     "output_type": "stream",
     "text": [
      "The size of the input layer is: n_x = 5\n",
      "The size of the hidden layer is: n_h = 4\n",
      "The size of the output layer is: n_y = 2\n"
     ]
    }
   ],
   "source": [
    "X_assess, Y_assess = layer_sizes_test_case()\n",
    "(n_x, n_h, n_y) = layer_sizes(X_assess, Y_assess)\n",
    "print(\"The size of the input layer is: n_x = \" + str(n_x))\n",
    "print(\"The size of the hidden layer is: n_h = \" + str(n_h))\n",
    "print(\"The size of the output layer is: n_y = \" + str(n_y))"
   ]
  },
  {
   "cell_type": "markdown",
   "id": "9d220184",
   "metadata": {},
   "source": [
    "**Expected Output**  \n",
    "*(These are not the sizes you will use for your network, they are just used to assess the function you've just coded).*\n",
    "\n",
    "| Variable | Value |\n",
    "|----------|-------|\n",
    "| **n_x**  | 5     |\n",
    "| **n_h**  | 4     |\n",
    "| **n_y**  | 2     |\n"
   ]
  },
  {
   "cell_type": "markdown",
   "id": "79a13c1c",
   "metadata": {},
   "source": [
    "#### 3.2 - Initialize the model's parameters ####\n",
    "\n",
    "Implement the function `initialize_parameters()`."
   ]
  },
  {
   "cell_type": "code",
   "execution_count": 16,
   "id": "74386c26",
   "metadata": {},
   "outputs": [],
   "source": [
    "def initialize_parameters(n_x, n_h, n_y):\n",
    "    \"\"\"\n",
    "    Argument:\n",
    "    n_x -- size of the input layer\n",
    "    n_h -- size of the hidden layer\n",
    "    n_y -- size of the output layer\n",
    "    \n",
    "    Returns:\n",
    "    params -- python dictionary containing your parameters:\n",
    "                    W1 -- weight matrix of shape (n_h, n_x)\n",
    "                    b1 -- bias vector of shape (n_h, 1)\n",
    "                    W2 -- weight matrix of shape (n_y, n_h)\n",
    "                    b2 -- bias vector of shape (n_y, 1)\n",
    "    \"\"\"\n",
    "    \n",
    "    W1 = cp.randn((n_h, n_x)) * 0.01\n",
    "    b1 = cp.zeros((n_h, 1))\n",
    "    W2 = cp.randn((n_y, n_h)) * 0.01\n",
    "    b2 = cp.zeros((n_y, 1))\n",
    "    \n",
    "    assert (W1.shape == [n_h, n_x])\n",
    "    assert (b1.shape == [n_h, 1])\n",
    "    assert (W2.shape == [n_y, n_h])\n",
    "    assert (b2.shape == [n_y, 1])\n",
    "    \n",
    "    parameters = {\"W1\": W1,\n",
    "                  \"b1\": b1,\n",
    "                  \"W2\": W2,\n",
    "                  \"b2\": b2}\n",
    "    \n",
    "    return parameters"
   ]
  },
  {
   "cell_type": "code",
   "execution_count": 17,
   "id": "68a293f8",
   "metadata": {},
   "outputs": [
    {
     "name": "stdout",
     "output_type": "stream",
     "text": [
      "W1 = Tensor(\n",
      "  shape=(4, 2), strides=(2, 1)\n",
      "  data={\n",
      "    [[-0.0126481, -0.00837016],\n",
      "     [0.00170634, 0.00143638],\n",
      "     [-0.00617931, 0.000238719],\n",
      "     [-0.0093101, -0.00851593]]\n",
      "  }\n",
      ")\n",
      "\n",
      "b1 = Tensor(\n",
      "  shape=(4, 1), strides=(1, 1)\n",
      "  data={\n",
      "    [[0],\n",
      "     [0],\n",
      "     [0],\n",
      "     [0]]\n",
      "  }\n",
      ")\n",
      "\n",
      "W2 = Tensor(\n",
      "  shape=(1, 4), strides=(4, 1)\n",
      "  data={\n",
      "    [[-0.0102491, 0.00799727, 0.000500084, 0.00380712]]\n",
      "  }\n",
      ")\n",
      "\n",
      "b2 = Tensor(\n",
      "  shape=(1, 1), strides=(1, 1)\n",
      "  data={\n",
      "    [[0]]\n",
      "  }\n",
      ")\n",
      "\n"
     ]
    }
   ],
   "source": [
    "n_x, n_h, n_y = initialize_parameters_test_case()\n",
    "\n",
    "parameters = initialize_parameters(n_x, n_h, n_y)\n",
    "print(\"W1 = \" + str(parameters[\"W1\"]))\n",
    "print(\"b1 = \" + str(parameters[\"b1\"]))\n",
    "print(\"W2 = \" + str(parameters[\"W2\"]))\n",
    "print(\"b2 = \" + str(parameters[\"b2\"]))"
   ]
  },
  {
   "cell_type": "markdown",
   "id": "d850f540",
   "metadata": {},
   "source": [
    "#### 3.3 - The Loop ####\n",
    "\n",
    "Implement `forward_propagation()`."
   ]
  },
  {
   "cell_type": "code",
   "execution_count": 18,
   "id": "6c60c651",
   "metadata": {},
   "outputs": [],
   "source": [
    "def forward_propagation(X, parameters):\n",
    "    \"\"\"\n",
    "    Argument:\n",
    "    X -- input data of size (n_x, m)\n",
    "    parameters -- python dictionary containing your parameters (output of initialization function)\n",
    "    \n",
    "    Returns:\n",
    "    A2 -- The sigmoid output of the second activation\n",
    "    cache -- a dictionary containing \"Z1\", \"A1\", \"Z2\" and \"A2\"\n",
    "    \"\"\"\n",
    "    # Retrieve each parameter from the dictionary \"parameters\"\n",
    "    W1 = cp.Tensor(parameters[\"W1\"].tolist())\n",
    "    b1 = cp.Tensor(parameters[\"b1\"].tolist())\n",
    "    W2 = cp.Tensor(parameters[\"W2\"].tolist())\n",
    "    b2 = cp.Tensor(parameters[\"b2\"].tolist())\n",
    "    \n",
    "    # Implement Forward Propagation to calculate A2 (probabilities)\n",
    "    Z1 = cp.dot(W1, X) + b1\n",
    "    A1 = cp.tanh(Z1) \n",
    "    Z2 = cp.dot(W2, A1) + b2\n",
    "    A2 = sigmoid(Z2)\n",
    "    \n",
    "    assert(A2.shape == [1, X.shape[1]])\n",
    "    \n",
    "    cache = {\"Z1\": Z1,\n",
    "             \"A1\": A1,\n",
    "             \"Z2\": Z2,\n",
    "             \"A2\": A2}\n",
    "    \n",
    "    return A2, cache"
   ]
  },
  {
   "cell_type": "code",
   "execution_count": 19,
   "id": "cecc896d",
   "metadata": {},
   "outputs": [],
   "source": [
    "X_assess, parameters = forward_propagation_test_case()\n",
    "X_assess = cp.Tensor(X_assess.tolist())\n",
    "A2, cache = forward_propagation(X_assess, parameters)"
   ]
  },
  {
   "cell_type": "markdown",
   "id": "48222593",
   "metadata": {},
   "source": [
    "Now that you have computed $A^{[2]}$ (in the Python variable \"`A2`\"), which contains $a^{[2](i)}$ for every example, you can compute the cost function as follows:\n",
    "\n",
    "$$J = - \\frac{1}{m} \\sum\\limits_{i = 1}^{m} \\large{(} \\small y^{(i)}\\log\\left(a^{[2] (i)}\\right) + (1-y^{(i)})\\log\\left(1- a^{[2] (i)}\\right) \\large{)} \\small\\tag{13}$$\n",
    "\n",
    "Implement `compute_cost()` to compute the value of the cost $J$. Try not to use a for loop."
   ]
  },
  {
   "cell_type": "code",
   "execution_count": 20,
   "id": "de04f400",
   "metadata": {},
   "outputs": [],
   "source": [
    "def compute_cost(A2, Y, parameters):\n",
    "    \"\"\"\n",
    "    Computes the cross-entropy cost given in equation (13)\n",
    "    \n",
    "    Arguments:\n",
    "    A2 -- The sigmoid output of the second activation, of shape (1, number of examples)\n",
    "    Y -- \"true\" labels vector of shape (1, number of examples)\n",
    "    parameters -- python dictionary containing your parameters W1, b1, W2 and b2\n",
    "    [Note that the parameters argument is not used in this function, \n",
    "    but the auto-grader currently expects this parameter.\n",
    "    Future version of this notebook will fix both the notebook \n",
    "    and the auto-grader so that `parameters` is not needed.\n",
    "    For now, please include `parameters` in the function signature,\n",
    "    and also when invoking this function.]\n",
    "    \n",
    "    Returns:\n",
    "    cost -- cross-entropy cost given equation (13)\n",
    "    \n",
    "    \"\"\"\n",
    "    \n",
    "    m = Y.shape[1] # number of example\n",
    "\n",
    "    # Compute the cross-entropy cost\n",
    "    logprobs = (cp.log(A2) * Y) + (cp.log(1 - A2) * (1 - Y))\n",
    "    cost = - logprobs.sum(dim = 1) / m\n",
    "    \n",
    "    cost = float(cost.item())   # makes sure cost is the dimension we expect. \n",
    "                                # E.g., turns [[17]] into 17 \n",
    "    assert(isinstance(cost, float))\n",
    "    \n",
    "    return cost"
   ]
  },
  {
   "cell_type": "code",
   "execution_count": 21,
   "id": "48cfce04",
   "metadata": {},
   "outputs": [
    {
     "name": "stdout",
     "output_type": "stream",
     "text": [
      "cost = 0.6930587887763977\n"
     ]
    }
   ],
   "source": [
    "A2, Y_assess, parameters = compute_cost_test_case()\n",
    "A2 = cp.Tensor(A2.tolist())\n",
    "\n",
    "Y_assess = cp.Tensor(Y_assess.tolist())\n",
    "\n",
    "print(\"cost = \" + str(compute_cost(A2, Y_assess, parameters)))"
   ]
  },
  {
   "cell_type": "markdown",
   "id": "660e2eed",
   "metadata": {},
   "source": [
    "Using the cache computed during forward propagation, we can now implement backward propagation.\n",
    "\n",
    "Implement the function `backward_propagation()`."
   ]
  },
  {
   "cell_type": "code",
   "execution_count": 22,
   "id": "9deba6ff",
   "metadata": {},
   "outputs": [],
   "source": [
    "def backward_propagation(parameters, cache, X, Y):\n",
    "    \"\"\"\n",
    "    Implement the backward propagation using the instructions above.\n",
    "    \n",
    "    Arguments:\n",
    "    parameters -- python dictionary containing our parameters \n",
    "    cache -- a dictionary containing \"Z1\", \"A1\", \"Z2\" and \"A2\".\n",
    "    X -- input data of shape (2, number of examples)\n",
    "    Y -- 0/1 labels vector of shape (1, number of examples)\n",
    "    \n",
    "    Returns:\n",
    "    grads -- python dictionary containing your gradients with respect to different parameters\n",
    "    \"\"\"\n",
    "    m = X.shape[1]\n",
    "    \n",
    "    # First, retrieve W1 and W2 from the dictionary \"parameters\".\n",
    "    W1 = cp.Tensor(parameters[\"W1\"].tolist())\n",
    "    W2 = cp.Tensor(parameters[\"W2\"].tolist())\n",
    "        \n",
    "    # Retrieve also A1 and A2 from dictionary \"cache\".\n",
    "    A1 = cp.Tensor(cache[\"A1\"].tolist())\n",
    "    A2 = cp.Tensor(cache[\"A2\"].tolist())\n",
    "    \n",
    "    # Backward propagation: calculate dW1, db1, dW2, db2. \n",
    "    ### START CODE HERE ### (≈ 6 lines of code, corresponding to 6 equations on slide above)\n",
    "    dZ2 = A2 - Y\n",
    "    dW2 = cp.dot(dZ2, A1.T) / m\n",
    "    db2 = cp.sum(dZ2, dim=1, keepdim=True) / m\n",
    "    dZ1 = cp.dot(W2.T, dZ2) * (1 - cp.pow(A1, 2))  # Derivative of tanh is (1 - A1^2)\n",
    "    dW1 = cp.dot(dZ1, X.T) / m\n",
    "    db1 = cp.sum(dZ1, dim=1, keepdim=True) / m\n",
    "    ### END CODE HERE ###\n",
    "    \n",
    "    grads = {\"dW1\": dW1,\n",
    "             \"db1\": db1,\n",
    "             \"dW2\": dW2,\n",
    "             \"db2\": db2}\n",
    "    \n",
    "    return grads"
   ]
  },
  {
   "cell_type": "code",
   "execution_count": 23,
   "id": "84bd6f0d",
   "metadata": {},
   "outputs": [
    {
     "name": "stdout",
     "output_type": "stream",
     "text": [
      "dW1 = Tensor(\n",
      "  shape=(4, 2), strides=(2, 1)\n",
      "  data={\n",
      "    [[0.00301023, -0.00747267],\n",
      "     [0.00257968, -0.00641288],\n",
      "     [-0.00156892, 0.003893],\n",
      "     [-0.00652037, 0.0161824]]\n",
      "  }\n",
      ")\n",
      "\n",
      "db1 = Tensor(\n",
      "  shape=(4, 1), strides=(1, 1)\n",
      "  data={\n",
      "    [[0.00176201],\n",
      "     [0.00150995],\n",
      "     [-0.000917363],\n",
      "     [-0.00381422]]\n",
      "  }\n",
      ")\n",
      "\n",
      "dW2 = Tensor(\n",
      "  shape=(1, 4), strides=(4, 1)\n",
      "  data={\n",
      "    [[0.000788406, 0.0176543, -0.000841659, -0.0102253]]\n",
      "  }\n",
      ")\n",
      "\n",
      "db2 = Tensor(\n",
      "  shape=(1, 1), strides=(1, 1)\n",
      "  data={\n",
      "    [[-0.166557]]\n",
      "  }\n",
      ")\n",
      "\n"
     ]
    }
   ],
   "source": [
    "parameters, cache, X_assess, Y_assess = backward_propagation_test_case()\n",
    "X_assess = cp.Tensor(X_assess.tolist())\n",
    "Y_assess = cp.Tensor(Y_assess.tolist())\n",
    "\n",
    "grads = backward_propagation(parameters, cache, X_assess, Y_assess)\n",
    "print (\"dW1 = \"+ str(grads[\"dW1\"]))\n",
    "print (\"db1 = \"+ str(grads[\"db1\"]))\n",
    "print (\"dW2 = \"+ str(grads[\"dW2\"]))\n",
    "print (\"db2 = \"+ str(grads[\"db2\"]))"
   ]
  },
  {
   "cell_type": "code",
   "execution_count": 24,
   "id": "e6a1c496",
   "metadata": {},
   "outputs": [],
   "source": [
    "## test\n",
    "parameters, grads = update_parameters_test_case()"
   ]
  },
  {
   "cell_type": "code",
   "execution_count": 25,
   "id": "b52f292f",
   "metadata": {},
   "outputs": [],
   "source": [
    "def update_parameters(parameters, grads, learning_rate = 1.2):\n",
    "    \"\"\"\n",
    "    Updates parameters using the gradient descent update rule given above\n",
    "    \n",
    "    Arguments:\n",
    "    parameters -- python dictionary containing your parameters \n",
    "    grads -- python dictionary containing your gradients \n",
    "    \n",
    "    Returns:\n",
    "    parameters -- python dictionary containing your updated parameters \n",
    "    \"\"\"\n",
    "    # Retrieve each parameter from the dictionary \"parameters\"\n",
    "    W1 = cp.Tensor(parameters[\"W1\"].tolist())\n",
    "    b1 = cp.Tensor(parameters[\"b1\"].tolist())\n",
    "    W2 = cp.Tensor(parameters[\"W2\"].tolist())\n",
    "    b2 = cp.Tensor(parameters[\"b2\"].tolist())\n",
    "    \n",
    "    # Retrieve each gradient from the dictionary \"grads\"\n",
    "    dW1 = cp.Tensor(grads[\"dW1\"].tolist())\n",
    "    db1 = cp.Tensor(grads[\"db1\"].tolist())\n",
    "    dW2 = cp.Tensor(grads[\"dW2\"].tolist())\n",
    "    db2 = cp.Tensor(grads[\"db2\"].tolist())\n",
    "    \n",
    "    # Update rule for each parameter\n",
    "    ### START CODE HERE ### (≈ 4 lines of code)\n",
    "    W1 = W1 - learning_rate * dW1\n",
    "    b1 = b1 - learning_rate * db1\n",
    "    W2 = W2 - learning_rate * dW2\n",
    "    b2 = b2 - learning_rate * db2\n",
    "    ### END CODE HERE ###\n",
    "    \n",
    "    parameters = {\"W1\": W1,\n",
    "                  \"b1\": b1,\n",
    "                  \"W2\": W2,\n",
    "                  \"b2\": b2}\n",
    "    \n",
    "    return parameters"
   ]
  },
  {
   "cell_type": "code",
   "execution_count": 26,
   "id": "4fb53b0a",
   "metadata": {},
   "outputs": [
    {
     "name": "stdout",
     "output_type": "stream",
     "text": [
      "W1 = Tensor(\n",
      "  shape=(4, 2), strides=(2, 1)\n",
      "  data={\n",
      "    [[-0.00643025, 0.0193672],\n",
      "     [-0.0241046, 0.0397805],\n",
      "     [-0.0165397, -0.0209618],\n",
      "     [0.0104686, -0.0599014]]\n",
      "  }\n",
      ")\n",
      "\n",
      "b1 = Tensor(\n",
      "  shape=(4, 1), strides=(1, 1)\n",
      "  data={\n",
      "    [[-1.02421e-06],\n",
      "     [1.27374e-05],\n",
      "     [8.32997e-07],\n",
      "     [-3.20137e-06]]\n",
      "  }\n",
      ")\n",
      "\n",
      "W2 = Tensor(\n",
      "  shape=(1, 4), strides=(4, 1)\n",
      "  data={\n",
      "    [[-0.0104108, -0.0446328, 0.0175803, 0.0474711]]\n",
      "  }\n",
      ")\n",
      "\n",
      "b2 = Tensor(\n",
      "  shape=(1, 1), strides=(1, 1)\n",
      "  data={\n",
      "    [[0.000104566]]\n",
      "  }\n",
      ")\n",
      "\n"
     ]
    }
   ],
   "source": [
    "parameters, grads = update_parameters_test_case()\n",
    "parameters = update_parameters(parameters, grads)\n",
    "\n",
    "print(\"W1 = \" + str(parameters[\"W1\"]))\n",
    "print(\"b1 = \" + str(parameters[\"b1\"]))\n",
    "print(\"W2 = \" + str(parameters[\"W2\"]))\n",
    "print(\"b2 = \" + str(parameters[\"b2\"]))"
   ]
  },
  {
   "cell_type": "markdown",
   "id": "6590eb70",
   "metadata": {},
   "source": [
    "#### 4.4 - Integrate parts 4.1, 4.2 and 4.3 in nn_model() ####"
   ]
  },
  {
   "cell_type": "code",
   "execution_count": 27,
   "id": "54d042b7",
   "metadata": {},
   "outputs": [],
   "source": [
    "# GRADED FUNCTION: nn_model\n",
    "\n",
    "def nn_model(X, Y, n_h, num_iterations = 10000, print_cost=False):\n",
    "    \"\"\"\n",
    "    Arguments:\n",
    "    X -- dataset of shape (2, number of examples)\n",
    "    Y -- labels of shape (1, number of examples)\n",
    "    n_h -- size of the hidden layer\n",
    "    num_iterations -- Number of iterations in gradient descent loop\n",
    "    print_cost -- if True, print the cost every 1000 iterations\n",
    "    \n",
    "    Returns:\n",
    "    parameters -- parameters learnt by the model. They can then be used to predict.\n",
    "    \"\"\"\n",
    "    \n",
    "    n_x = layer_sizes(X, Y)[0]\n",
    "    n_y = layer_sizes(X, Y)[2]\n",
    "    \n",
    "    # Initialize parameters\n",
    "    parameters = initialize_parameters(n_x, n_h, n_y)\n",
    "    \n",
    "    # Loop (gradient descent)\n",
    "\n",
    "    for i in range(0, num_iterations):\n",
    "\n",
    "        # Forward propagation. Inputs: \"X, parameters\". Outputs: \"A2, cache\".\n",
    "        A2, cache = forward_propagation(X, parameters)\n",
    "        \n",
    "        # Cost function. Inputs: \"A2, Y, parameters\". Outputs: \"cost\".\n",
    "        cost = compute_cost(A2, Y, parameters)\n",
    " \n",
    "        # Backpropagation. Inputs: \"parameters, cache, X, Y\". Outputs: \"grads\".\n",
    "        grads = backward_propagation(parameters, cache, X, Y)\n",
    " \n",
    "        # Gradient descent parameter update. Inputs: \"parameters, grads\". Outputs: \"parameters\".\n",
    "        parameters = update_parameters(parameters, grads)\n",
    "        \n",
    "        # Print the cost every 1000 iterations\n",
    "        if print_cost and i % 1000 == 0:\n",
    "            print (\"Cost after iteration %i: %f\" %(i, cost))\n",
    "    \n",
    "    return parameters"
   ]
  },
  {
   "cell_type": "code",
   "execution_count": 28,
   "id": "b0296026",
   "metadata": {},
   "outputs": [
    {
     "name": "stdout",
     "output_type": "stream",
     "text": [
      "Cost after iteration 0: 0.693027\n",
      "Cost after iteration 1000: 0.000226\n",
      "Cost after iteration 2000: 0.000110\n",
      "Cost after iteration 3000: 0.000073\n",
      "Cost after iteration 4000: 0.000054\n",
      "Cost after iteration 5000: 0.000043\n",
      "Cost after iteration 6000: 0.000036\n",
      "Cost after iteration 7000: 0.000031\n",
      "Cost after iteration 8000: 0.000027\n",
      "Cost after iteration 9000: 0.000024\n",
      "W1 = Tensor(\n",
      "  shape=(4, 2), strides=(2, 1)\n",
      "  data={\n",
      "    [[0.688345, -1.27726],\n",
      "     [-0.503295, 0.948691],\n",
      "     [-0.818194, 1.49999],\n",
      "     [-0.72796, 1.33857]]\n",
      "  }\n",
      ")\n",
      "\n",
      "b1 = Tensor(\n",
      "  shape=(4, 1), strides=(1, 1)\n",
      "  data={\n",
      "    [[-0.312511],\n",
      "     [0.186267],\n",
      "     [0.391709],\n",
      "     [0.335727]]\n",
      "  }\n",
      ")\n",
      "\n",
      "W2 = Tensor(\n",
      "  shape=(1, 4), strides=(4, 1)\n",
      "  data={\n",
      "    [[2.70028, -1.54662, -3.86702, -2.99321]]\n",
      "  }\n",
      ")\n",
      "\n",
      "b2 = Tensor(\n",
      "  shape=(1, 1), strides=(1, 1)\n",
      "  data={\n",
      "    [[0.209864]]\n",
      "  }\n",
      ")\n",
      "\n"
     ]
    }
   ],
   "source": [
    "X_assess, Y_assess = nn_model_test_case()\n",
    "X_assess = cp.Tensor(X_assess.tolist())\n",
    "Y_assess = cp.Tensor(Y_assess.tolist())\n",
    "parameters = nn_model(X_assess, Y_assess, 4, num_iterations=10000, print_cost=True)\n",
    "print(\"W1 = \" + str(parameters[\"W1\"]))\n",
    "print(\"b1 = \" + str(parameters[\"b1\"]))\n",
    "print(\"W2 = \" + str(parameters[\"W2\"]))\n",
    "print(\"b2 = \" + str(parameters[\"b2\"]))"
   ]
  },
  {
   "cell_type": "markdown",
   "id": "91be6157",
   "metadata": {},
   "source": [
    "### 4.5 Predictions\n",
    "\n",
    "Use your model to predict by building predict().\n",
    "Use forward propagation to predict results.\n",
    "\n",
    "**Reminder**: predictions = $y_{prediction} = \\mathbb 1 \\text{{activation > 0.5}} = \\begin{cases}\n",
    "      1 & \\text{if}\\ activation > 0.5 \\\\\n",
    "      0 & \\text{otherwise}\n",
    "    \\end{cases}$  \n",
    "    \n",
    "As an example, if you would like to set the entries of a matrix X to 0 and 1 based on a threshold you would do: ```X_new = (X > threshold)```"
   ]
  },
  {
   "cell_type": "code",
   "execution_count": 29,
   "id": "480c2cd2",
   "metadata": {},
   "outputs": [],
   "source": [
    "def predict(parameters, X):\n",
    "    \"\"\"\n",
    "    Using the learned parameters, predicts a class for each example in X\n",
    "    \n",
    "    Arguments:\n",
    "    parameters -- python dictionary containing your parameters \n",
    "    X -- input data of size (n_x, m)\n",
    "    \n",
    "    Returns\n",
    "    predictions -- vector of predictions of our model (red: 0 / blue: 1)\n",
    "    \"\"\"\n",
    "    \n",
    "    # Computes probabilities using forward propagation, and classifies to 0/1 using 0.5 as the threshold.\n",
    "    ### START CODE HERE ### (≈ 2 lines of code)\n",
    "    X = cp.Tensor(X.tolist())\n",
    "    A2, cache = forward_propagation(X, parameters)\n",
    "    A2 = cp.Tensor(A2.tolist())\n",
    "    predictions = (A2 > cp.Tensor((A2.shape[0],), 0.5))\n",
    "    ### END CODE HERE ###\n",
    "    \n",
    "    return predictions"
   ]
  },
  {
   "cell_type": "code",
   "execution_count": 30,
   "id": "5fc1299e",
   "metadata": {},
   "outputs": [
    {
     "name": "stdout",
     "output_type": "stream",
     "text": [
      "predictions= Tensor(\n",
      "  shape=(1, 3), strides=(3, 1)\n",
      "  data={\n",
      "    [[1, 0, 1]]\n",
      "  }\n",
      ")\n",
      "\n"
     ]
    }
   ],
   "source": [
    "parameters, X_assess = predict_test_case()\n",
    "\n",
    "predictions = predict(parameters, X_assess)\n",
    "print(\"predictions= \" + str(predictions))"
   ]
  },
  {
   "cell_type": "markdown",
   "id": "f8b7a2b6",
   "metadata": {},
   "source": [
    "It is time to run the model and see how it performs on a planar dataset. Run the following code to test your model with a single hidden layer of $n_h$ hidden units."
   ]
  },
  {
   "cell_type": "code",
   "execution_count": 31,
   "id": "518c814c",
   "metadata": {},
   "outputs": [
    {
     "name": "stdout",
     "output_type": "stream",
     "text": [
      "Cost after iteration 0: 0.693171\n",
      "Cost after iteration 1000: 0.256929\n",
      "Cost after iteration 2000: 0.238392\n",
      "Cost after iteration 3000: 0.230177\n",
      "Cost after iteration 4000: 0.225092\n",
      "Cost after iteration 5000: 0.221530\n",
      "Cost after iteration 6000: 0.218858\n",
      "Cost after iteration 7000: 0.220009\n",
      "Cost after iteration 8000: 0.219166\n",
      "Cost after iteration 9000: 0.218358\n"
     ]
    },
    {
     "data": {
      "text/plain": [
       "Text(0.5, 1.0, 'Decision Boundary for hidden layer size 4')"
      ]
     },
     "execution_count": 31,
     "metadata": {},
     "output_type": "execute_result"
    },
    {
     "data": {
      "image/png": "[encoded data removed]",
      "text/plain": [
       "<Figure size 640x480 with 1 Axes>"
      ]
     },
     "metadata": {},
     "output_type": "display_data"
    }
   ],
   "source": [
    "# Build a model with a n_h-dimensional hidden layer\n",
    "parameters = nn_model(X, Y, n_h = 4, num_iterations = 10000, print_cost=True)\n",
    "\n",
    "# Plot the decision boundary\n",
    "plot_decision_boundary(lambda x: predict(parameters, x.T), X, Y)\n",
    "plt.title(\"Decision Boundary for hidden layer size \" + str(4))"
   ]
  },
  {
   "cell_type": "code",
   "execution_count": 32,
   "id": "e6bc92c9",
   "metadata": {},
   "outputs": [
    {
     "name": "stdout",
     "output_type": "stream",
     "text": [
      "Correctly predicted = 363.0\n",
      "Number of points= 400\n",
      "Accuracy: 90.750000%\n"
     ]
    }
   ],
   "source": [
    "# Print accuracy\n",
    "predictions = predict(parameters, X)\n",
    "print(\"Correctly predicted = \" + str((cp.dot(Y, predictions.T) + cp.dot(1 - Y, 1 - predictions.T)).item()))\n",
    "print(\"Number of points=\", Y.shape[1])\n",
    "print ('Accuracy: %f' % float(100 * ((cp.dot(Y,predictions.T) + cp.dot(1-Y,1-predictions.T)).item()/(float(Y.shape[1])))) + '%')"
   ]
  },
  {
   "cell_type": "markdown",
   "id": "4677e277",
   "metadata": {},
   "source": [
    "### If your Acc is greater than 90%, then Congrats! You have survived **Clownpiece Torch Week 1**🥳🥳"
   ]
  }
 ],
 "metadata": {
  "kernelspec": {
   "display_name": "cs285",
   "language": "python",
   "name": "python3"
  },
  "language_info": {
   "codemirror_mode": {
    "name": "ipython",
    "version": 3
   },
   "file_extension": ".py",
   "mimetype": "text/x-python",
   "name": "python",
   "nbconvert_exporter": "python",
   "pygments_lexer": "ipython3",
   "version": "3.9.21"
  }
 },
 "nbformat": 4,
 "nbformat_minor": 5
}
